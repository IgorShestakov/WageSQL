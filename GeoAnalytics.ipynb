{
  "nbformat": 4,
  "nbformat_minor": 0,
  "metadata": {
    "colab": {
      "provenance": [],
      "mount_file_id": "1cu5vnDpbfAWba3A2lGtaW5pjo7eO7VeA",
      "authorship_tag": "ABX9TyOM1yQ8bazk57nyv/Hxh8SP"
    },
    "kernelspec": {
      "name": "python3",
      "display_name": "Python 3"
    },
    "language_info": {
      "name": "python"
    }
  },
  "cells": [
    {
      "cell_type": "code",
      "source": [
        "import pandas as pd\n",
        "import geopandas as gpd\n",
        "GeoPoints = pd.read_csv('/content/drive/MyDrive/all_v2.csv')\n",
        "print(GeoPoints.info())\n",
        "print(GeoPoints)\n"
      ],
      "metadata": {
        "colab": {
          "base_uri": "https://localhost:8080/"
        },
        "id": "WqYMLfc-u82c",
        "outputId": "5c3fd09a-014d-40e1-9ee9-497a40eac560"
      },
      "execution_count": null,
      "outputs": [
        {
          "output_type": "stream",
          "name": "stdout",
          "text": [
            "<class 'pandas.core.frame.DataFrame'>\n",
            "RangeIndex: 5477006 entries, 0 to 5477005\n",
            "Data columns (total 13 columns):\n",
            " #   Column         Dtype  \n",
            "---  ------         -----  \n",
            " 0   price          int64  \n",
            " 1   date           object \n",
            " 2   time           object \n",
            " 3   geo_lat        float64\n",
            " 4   geo_lon        float64\n",
            " 5   region         int64  \n",
            " 6   building_type  int64  \n",
            " 7   level          int64  \n",
            " 8   levels         int64  \n",
            " 9   rooms          int64  \n",
            " 10  area           float64\n",
            " 11  kitchen_area   float64\n",
            " 12  object_type    int64  \n",
            "dtypes: float64(4), int64(7), object(2)\n",
            "memory usage: 543.2+ MB\n",
            "None\n",
            "            price        date      time    geo_lat    geo_lon  region  \\\n",
            "0         6050000  2018-02-19  20:00:21  59.805808  30.376141    2661   \n",
            "1         8650000  2018-02-27  12:04:54  55.683807  37.297405      81   \n",
            "2         4000000  2018-02-28  15:44:00  56.295250  44.061637    2871   \n",
            "3         1850000  2018-03-01  11:24:52  44.996132  39.074783    2843   \n",
            "4         5450000  2018-03-01  17:42:43  55.918767  37.984642      81   \n",
            "...           ...         ...       ...        ...        ...     ...   \n",
            "5477001  19739760  2021-05-01  20:13:58  55.804736  37.750898       3   \n",
            "5477002  12503160  2021-05-01  20:14:01  55.841415  37.489624       3   \n",
            "5477003   8800000  2021-05-01  20:14:04  56.283909  44.075408    2871   \n",
            "5477004  11831910  2021-05-01  20:14:12  55.804736  37.750898       3   \n",
            "5477005  13316200  2021-05-01  20:14:15  55.860240  37.540356       3   \n",
            "\n",
            "         building_type  level  levels  rooms  area  kitchen_area  object_type  \n",
            "0                    1      8      10      3  82.6          10.8            1  \n",
            "1                    3      5      24      2  69.1          12.0            1  \n",
            "2                    1      5       9      3  66.0          10.0            1  \n",
            "3                    4     12      16      2  38.0           5.0           11  \n",
            "4                    3     13      14      2  60.0          10.0            1  \n",
            "...                ...    ...     ...    ...   ...           ...          ...  \n",
            "5477001              1      8      17      4  93.2          13.8           11  \n",
            "5477002              2     17      32      2  45.9           6.6           11  \n",
            "5477003              2      4      17      3  86.5          11.8            1  \n",
            "5477004              1      8      33      2  52.1          18.9           11  \n",
            "5477005              2     10      23      2  55.6          20.8           11  \n",
            "\n",
            "[5477006 rows x 13 columns]\n"
          ]
        }
      ]
    },
    {
      "cell_type": "code",
      "source": [
        "Polygons = gpd.read_file('/content/drive/MyDrive/geo.json')\n",
        "print(Polygons.info())\n",
        "print(Polygons)\n",
        "Polygons = Polygons.drop(['ID_0','ISO','NAME_0','ID_1','NL_NAME_1','VARNAME_1','ENGTYPE_1'], axis=1)"
      ],
      "metadata": {
        "colab": {
          "base_uri": "https://localhost:8080/"
        },
        "id": "AQZHJtV03BmK",
        "outputId": "9da49ba4-3862-45b6-92c7-f50f63f9638b"
      },
      "execution_count": null,
      "outputs": [
        {
          "output_type": "stream",
          "name": "stdout",
          "text": [
            "<class 'geopandas.geodataframe.GeoDataFrame'>\n",
            "RangeIndex: 85 entries, 0 to 84\n",
            "Data columns (total 10 columns):\n",
            " #   Column     Non-Null Count  Dtype   \n",
            "---  ------     --------------  -----   \n",
            " 0   ID_0       85 non-null     int64   \n",
            " 1   ISO        85 non-null     object  \n",
            " 2   NAME_0     85 non-null     object  \n",
            " 3   ID_1       85 non-null     int64   \n",
            " 4   NAME_1     85 non-null     object  \n",
            " 5   NL_NAME_1  81 non-null     object  \n",
            " 6   VARNAME_1  84 non-null     object  \n",
            " 7   TYPE_1     85 non-null     object  \n",
            " 8   ENGTYPE_1  85 non-null     object  \n",
            " 9   geometry   85 non-null     geometry\n",
            "dtypes: geometry(1), int64(2), object(7)\n",
            "memory usage: 6.8+ KB\n",
            "None\n",
            "    ID_0  ISO  NAME_0  ID_1             NAME_1  \\\n",
            "0    186  RUS  Russia    28  Karachay-Cherkess   \n",
            "1    186  RUS  Russia    29            Karelia   \n",
            "2    186  RUS  Russia    30           Kemerovo   \n",
            "3    186  RUS  Russia    31         Khabarovsk   \n",
            "4    186  RUS  Russia    32            Khakass   \n",
            "..   ...  ...     ...   ...                ...   \n",
            "80   186  RUS  Russia    40        Krasnoyarsk   \n",
            "81   186  RUS  Russia    21            Irkutsk   \n",
            "82   186  RUS  Russia    13  Zabaikalskiy Krai   \n",
            "83   186  RUS  Russia    27          Kamchatka   \n",
            "84   186  RUS  Russia    60              Perm'   \n",
            "\n",
            "                         NL_NAME_1  \\\n",
            "0   ?????????-????????? ??????????   \n",
            "1               ?????????? ???????   \n",
            "2              ??????????? ???????   \n",
            "3                 ??????????? ????   \n",
            "4               ?????????? ???????   \n",
            "..                             ...   \n",
            "80               ???????????? ????   \n",
            "81               ????????? ???????   \n",
            "82                            None   \n",
            "83              ?????????? ???????   \n",
            "84                ???????? ???????   \n",
            "\n",
            "                                            VARNAME_1      TYPE_1  ENGTYPE_1  \\\n",
            "0   Karaçay-Çerkes|Karachay-Cherkessiya|Karachayev...  Respublika   Republic   \n",
            "1   Karelian A.S.S.R.|Karelo-Finnish A.S.S.R.|Kare...  Respublika   Republic   \n",
            "2                                 Kemerovskaya Oblast      Oblast     Region   \n",
            "3                                   Khabarovskiy Kray        Kray  Territory   \n",
            "4   Khakassiya|Republic of Khakasia|Khakasskaya A....  Respublika   Republic   \n",
            "..                                                ...         ...        ...   \n",
            "80       Krasnoyarskiy Kray|Yeniseisk|Yeniseyskaya G.        Kray  Territory   \n",
            "81                                  Irkutskaya Oblast      Oblast     Region   \n",
            "82                                  Zabaikalskiy Krai      Oblast     Region   \n",
            "83                     Kamï¿½atka|Kamchatskaya Oblast      Oblast     Region   \n",
            "84                           Molotov|Permskaya Oblast        Kray  Territory   \n",
            "\n",
            "                                             geometry  \n",
            "0   POLYGON ((42.13194 44.34488, 42.19061 44.32248...  \n",
            "1   MULTIPOLYGON (((36.77098 64.02402, 36.75969 64...  \n",
            "2   POLYGON ((88.63731 56.77809, 88.64615 56.73922...  \n",
            "3   MULTIPOLYGON (((136.64362 45.04694, 136.64417 ...  \n",
            "4   MULTIPOLYGON (((91.45279 53.70172, 91.44386 53...  \n",
            "..                                                ...  \n",
            "80  MULTIPOLYGON (((106.36668 69.53505, 106.28728 ...  \n",
            "81  POLYGON ((108.51489 64.24889, 108.49897 64.208...  \n",
            "82  MULTIPOLYGON (((107.70453 49.95612, 107.69301 ...  \n",
            "83  MULTIPOLYGON (((157.27618 51.24185, 157.27545 ...  \n",
            "84  POLYGON ((53.43537 61.05370, 53.34233 60.90009...  \n",
            "\n",
            "[85 rows x 10 columns]\n"
          ]
        }
      ]
    },
    {
      "cell_type": "code",
      "source": [
        "GeoPoints = gpd.GeoDataFrame(geometry=gpd.points_from_xy(GeoPoints.geo_lon, GeoPoints.geo_lat, crs=\"EPSG:4326\"), data=GeoPoints)\n",
        "GeoPoints = GeoPoints.drop(['geo_lat', 'geo_lon','object_type', 'region'], axis=1)\n",
        "print(GeoPoints)"
      ],
      "metadata": {
        "colab": {
          "base_uri": "https://localhost:8080/"
        },
        "id": "Q50unn_W3TJX",
        "outputId": "5484f659-7d5f-48e8-b4cb-a637ff4d9c88"
      },
      "execution_count": null,
      "outputs": [
        {
          "output_type": "stream",
          "name": "stdout",
          "text": [
            "            price        date      time  building_type  level  levels  rooms  \\\n",
            "0         6050000  2018-02-19  20:00:21              1      8      10      3   \n",
            "1         8650000  2018-02-27  12:04:54              3      5      24      2   \n",
            "2         4000000  2018-02-28  15:44:00              1      5       9      3   \n",
            "3         1850000  2018-03-01  11:24:52              4     12      16      2   \n",
            "4         5450000  2018-03-01  17:42:43              3     13      14      2   \n",
            "...           ...         ...       ...            ...    ...     ...    ...   \n",
            "5477001  19739760  2021-05-01  20:13:58              1      8      17      4   \n",
            "5477002  12503160  2021-05-01  20:14:01              2     17      32      2   \n",
            "5477003   8800000  2021-05-01  20:14:04              2      4      17      3   \n",
            "5477004  11831910  2021-05-01  20:14:12              1      8      33      2   \n",
            "5477005  13316200  2021-05-01  20:14:15              2     10      23      2   \n",
            "\n",
            "         area  kitchen_area                   geometry  \n",
            "0        82.6          10.8  POINT (30.37614 59.80581)  \n",
            "1        69.1          12.0  POINT (37.29740 55.68381)  \n",
            "2        66.0          10.0  POINT (44.06164 56.29525)  \n",
            "3        38.0           5.0  POINT (39.07478 44.99613)  \n",
            "4        60.0          10.0  POINT (37.98464 55.91877)  \n",
            "...       ...           ...                        ...  \n",
            "5477001  93.2          13.8  POINT (37.75090 55.80474)  \n",
            "5477002  45.9           6.6  POINT (37.48962 55.84141)  \n",
            "5477003  86.5          11.8  POINT (44.07541 56.28391)  \n",
            "5477004  52.1          18.9  POINT (37.75090 55.80474)  \n",
            "5477005  55.6          20.8  POINT (37.54036 55.86024)  \n",
            "\n",
            "[5477006 rows x 10 columns]\n"
          ]
        }
      ]
    },
    {
      "cell_type": "code",
      "source": [
        "GeoPoints = gpd.sjoin(GeoPoints, Polygons, predicate = 'within')\n",
        "print(GeoPoints)\n"
      ],
      "metadata": {
        "colab": {
          "base_uri": "https://localhost:8080/"
        },
        "id": "jtzd1dm75GCk",
        "outputId": "8047ca96-15aa-489e-eecc-df638c03f7ca"
      },
      "execution_count": null,
      "outputs": [
        {
          "output_type": "stream",
          "name": "stdout",
          "text": [
            "          price        date      time  building_type  level  levels  rooms  \\\n",
            "0       6050000  2018-02-19  20:00:21              1      8      10      3   \n",
            "7       3600000  2018-03-04  20:52:38              1      2       5      1   \n",
            "36      3200000  2018-04-10  16:10:12              1      7       9      1   \n",
            "47      6500000  2018-04-23  11:47:58              3      3       3      3   \n",
            "54      6300000  2018-04-28  17:47:24              3      5       5      2   \n",
            "...         ...         ...       ...            ...    ...     ...    ...   \n",
            "605231  3000000  2018-11-29  20:09:04              5      2       2      2   \n",
            "606060  1400000  2018-11-29  23:05:41              3      3       3      1   \n",
            "612972  6000000  2018-11-30  12:13:14              3      5       5      2   \n",
            "619108  3500000  2018-11-30  20:26:04              2      1       3      2   \n",
            "626109  5200000  2018-12-01  21:07:28              3      5       5      2   \n",
            "\n",
            "        area  kitchen_area                   geometry  index_right  \\\n",
            "0       82.6          10.8  POINT (30.37614 59.80581)           23   \n",
            "7       31.1           6.0  POINT (30.39546 59.87553)           23   \n",
            "36      31.0           7.0  POINT (30.20183 59.82746)           23   \n",
            "47      89.0          10.0  POINT (29.78693 59.98833)           23   \n",
            "54      99.9          14.5  POINT (30.28456 59.91162)           23   \n",
            "...      ...           ...                        ...          ...   \n",
            "605231  57.0          10.0  POINT (52.99804 67.63163)           42   \n",
            "606060  18.6           4.0  POINT (53.05822 67.64101)           42   \n",
            "612972  64.3          16.3  POINT (52.99282 67.63856)           42   \n",
            "619108  59.7          10.2  POINT (53.07670 67.66146)           42   \n",
            "626109  72.5          15.7  POINT (53.00696 67.63797)           42   \n",
            "\n",
            "                        NAME_1            TYPE_1  \n",
            "0       City of St. Petersburg          Gorsovet  \n",
            "7       City of St. Petersburg          Gorsovet  \n",
            "36      City of St. Petersburg          Gorsovet  \n",
            "47      City of St. Petersburg          Gorsovet  \n",
            "54      City of St. Petersburg          Gorsovet  \n",
            "...                        ...               ...  \n",
            "605231                  Nenets  Avtonomnyy Okrug  \n",
            "606060                  Nenets  Avtonomnyy Okrug  \n",
            "612972                  Nenets  Avtonomnyy Okrug  \n",
            "619108                  Nenets  Avtonomnyy Okrug  \n",
            "626109                  Nenets  Avtonomnyy Okrug  \n",
            "\n",
            "[5468339 rows x 13 columns]\n"
          ]
        }
      ]
    },
    {
      "cell_type": "code",
      "source": [
        "import folium\n",
        "print(folium.Map(location=Polygons))"
      ],
      "metadata": {
        "colab": {
          "base_uri": "https://localhost:8080/",
          "height": 311
        },
        "id": "O07nCfoeO5Rv",
        "outputId": "18b97df0-028e-439b-9cc2-eb5de2d1902c"
      },
      "execution_count": null,
      "outputs": [
        {
          "output_type": "error",
          "ename": "AttributeError",
          "evalue": "'GeoDataFrame' object has no attribute 'tolist'",
          "traceback": [
            "\u001b[0;31m---------------------------------------------------------------------------\u001b[0m",
            "\u001b[0;31mAttributeError\u001b[0m                            Traceback (most recent call last)",
            "\u001b[0;32m<ipython-input-18-02c9d080fdfc>\u001b[0m in \u001b[0;36m<cell line: 2>\u001b[0;34m()\u001b[0m\n\u001b[1;32m      1\u001b[0m \u001b[0;32mimport\u001b[0m \u001b[0mfolium\u001b[0m\u001b[0;34m\u001b[0m\u001b[0;34m\u001b[0m\u001b[0m\n\u001b[0;32m----> 2\u001b[0;31m \u001b[0mprint\u001b[0m\u001b[0;34m(\u001b[0m\u001b[0mfolium\u001b[0m\u001b[0;34m.\u001b[0m\u001b[0mMap\u001b[0m\u001b[0;34m(\u001b[0m\u001b[0mlocation\u001b[0m\u001b[0;34m=\u001b[0m\u001b[0mPolygons\u001b[0m\u001b[0;34m)\u001b[0m\u001b[0;34m)\u001b[0m\u001b[0;34m\u001b[0m\u001b[0;34m\u001b[0m\u001b[0m\n\u001b[0m",
            "\u001b[0;32m/usr/local/lib/python3.10/dist-packages/folium/folium.py\u001b[0m in \u001b[0;36m__init__\u001b[0;34m(self, location, width, height, left, top, position, tiles, attr, min_zoom, max_zoom, zoom_start, min_lat, max_lat, min_lon, max_lon, max_bounds, crs, control_scale, prefer_canvas, no_touch, disable_3d, png_enabled, zoom_control, **kwargs)\u001b[0m\n\u001b[1;32m    272\u001b[0m             \u001b[0mzoom_start\u001b[0m \u001b[0;34m=\u001b[0m \u001b[0;36m1\u001b[0m\u001b[0;34m\u001b[0m\u001b[0;34m\u001b[0m\u001b[0m\n\u001b[1;32m    273\u001b[0m         \u001b[0;32melse\u001b[0m\u001b[0;34m:\u001b[0m\u001b[0;34m\u001b[0m\u001b[0;34m\u001b[0m\u001b[0m\n\u001b[0;32m--> 274\u001b[0;31m             \u001b[0mself\u001b[0m\u001b[0;34m.\u001b[0m\u001b[0mlocation\u001b[0m \u001b[0;34m=\u001b[0m \u001b[0mvalidate_location\u001b[0m\u001b[0;34m(\u001b[0m\u001b[0mlocation\u001b[0m\u001b[0;34m)\u001b[0m\u001b[0;34m\u001b[0m\u001b[0;34m\u001b[0m\u001b[0m\n\u001b[0m\u001b[1;32m    275\u001b[0m \u001b[0;34m\u001b[0m\u001b[0m\n\u001b[1;32m    276\u001b[0m         \u001b[0mFigure\u001b[0m\u001b[0;34m(\u001b[0m\u001b[0;34m)\u001b[0m\u001b[0;34m.\u001b[0m\u001b[0madd_child\u001b[0m\u001b[0;34m(\u001b[0m\u001b[0mself\u001b[0m\u001b[0;34m)\u001b[0m\u001b[0;34m\u001b[0m\u001b[0;34m\u001b[0m\u001b[0m\n",
            "\u001b[0;32m/usr/local/lib/python3.10/dist-packages/folium/utilities.py\u001b[0m in \u001b[0;36mvalidate_location\u001b[0;34m(location)\u001b[0m\n\u001b[1;32m     44\u001b[0m         \u001b[0mpd\u001b[0m \u001b[0;32mis\u001b[0m \u001b[0;32mnot\u001b[0m \u001b[0;32mNone\u001b[0m \u001b[0;32mand\u001b[0m \u001b[0misinstance\u001b[0m\u001b[0;34m(\u001b[0m\u001b[0mlocation\u001b[0m\u001b[0;34m,\u001b[0m \u001b[0mpd\u001b[0m\u001b[0;34m.\u001b[0m\u001b[0mDataFrame\u001b[0m\u001b[0;34m)\u001b[0m\u001b[0;34m\u001b[0m\u001b[0;34m\u001b[0m\u001b[0m\n\u001b[1;32m     45\u001b[0m     ):\n\u001b[0;32m---> 46\u001b[0;31m         \u001b[0mlocation\u001b[0m \u001b[0;34m=\u001b[0m \u001b[0mnp\u001b[0m\u001b[0;34m.\u001b[0m\u001b[0msqueeze\u001b[0m\u001b[0;34m(\u001b[0m\u001b[0mlocation\u001b[0m\u001b[0;34m)\u001b[0m\u001b[0;34m.\u001b[0m\u001b[0mtolist\u001b[0m\u001b[0;34m(\u001b[0m\u001b[0;34m)\u001b[0m\u001b[0;34m\u001b[0m\u001b[0;34m\u001b[0m\u001b[0m\n\u001b[0m\u001b[1;32m     47\u001b[0m     \u001b[0;32mif\u001b[0m \u001b[0;32mnot\u001b[0m \u001b[0mhasattr\u001b[0m\u001b[0;34m(\u001b[0m\u001b[0mlocation\u001b[0m\u001b[0;34m,\u001b[0m \u001b[0;34m\"__len__\"\u001b[0m\u001b[0;34m)\u001b[0m\u001b[0;34m:\u001b[0m\u001b[0;34m\u001b[0m\u001b[0;34m\u001b[0m\u001b[0m\n\u001b[1;32m     48\u001b[0m         raise TypeError(\n",
            "\u001b[0;32m/usr/local/lib/python3.10/dist-packages/pandas/core/generic.py\u001b[0m in \u001b[0;36m__getattr__\u001b[0;34m(self, name)\u001b[0m\n\u001b[1;32m   5900\u001b[0m         ):\n\u001b[1;32m   5901\u001b[0m             \u001b[0;32mreturn\u001b[0m \u001b[0mself\u001b[0m\u001b[0;34m[\u001b[0m\u001b[0mname\u001b[0m\u001b[0;34m]\u001b[0m\u001b[0;34m\u001b[0m\u001b[0;34m\u001b[0m\u001b[0m\n\u001b[0;32m-> 5902\u001b[0;31m         \u001b[0;32mreturn\u001b[0m \u001b[0mobject\u001b[0m\u001b[0;34m.\u001b[0m\u001b[0m__getattribute__\u001b[0m\u001b[0;34m(\u001b[0m\u001b[0mself\u001b[0m\u001b[0;34m,\u001b[0m \u001b[0mname\u001b[0m\u001b[0;34m)\u001b[0m\u001b[0;34m\u001b[0m\u001b[0;34m\u001b[0m\u001b[0m\n\u001b[0m\u001b[1;32m   5903\u001b[0m \u001b[0;34m\u001b[0m\u001b[0m\n\u001b[1;32m   5904\u001b[0m     \u001b[0;32mdef\u001b[0m \u001b[0m__setattr__\u001b[0m\u001b[0;34m(\u001b[0m\u001b[0mself\u001b[0m\u001b[0;34m,\u001b[0m \u001b[0mname\u001b[0m\u001b[0;34m:\u001b[0m \u001b[0mstr\u001b[0m\u001b[0;34m,\u001b[0m \u001b[0mvalue\u001b[0m\u001b[0;34m)\u001b[0m \u001b[0;34m->\u001b[0m \u001b[0;32mNone\u001b[0m\u001b[0;34m:\u001b[0m\u001b[0;34m\u001b[0m\u001b[0;34m\u001b[0m\u001b[0m\n",
            "\u001b[0;31mAttributeError\u001b[0m: 'GeoDataFrame' object has no attribute 'tolist'"
          ]
        }
      ]
    }
  ]
}